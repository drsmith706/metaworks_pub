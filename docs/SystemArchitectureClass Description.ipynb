{
 "cells": [
  {
   "cell_type": "markdown",
   "metadata": {},
   "source": [
    "<img src=\"LogoColorHorizontal.png\" style=\"width:200px\" align=\"left\">    <img src=\"MetaWorksLogo.png\" style=\"width:200px\" align=\"right\">"
   ]
  },
  {
   "cell_type": "markdown",
   "metadata": {},
   "source": [
    "# SystemArchitecture Class Documentation"
   ]
  },
  {
   "cell_type": "markdown",
   "metadata": {},
   "source": [
    "The SystemArchitecture class contains all the information about the geometry being analyzed, including the layout of the dipoles and feed structure."
   ]
  },
  {
   "cell_type": "markdown",
   "metadata": {},
   "source": [
    "The main properties of the class are as follows:"
   ]
  },
  {
   "cell_type": "markdown",
   "metadata": {},
   "source": [
    "<html>\n",
    "<table>\n",
    "    <tr>\n",
    "        <th> variable </th>\n",
    "        <th> description </th>\n",
    "    </tr>\n",
    "    <tr>\n",
    "        <td> sa.freq_op </td>\n",
    "        <td> frequency of operation </td>\n",
    "    </tr>\n",
    "    <tr>\n",
    "        <td> sa.wavelength_op </td>\n",
    "        <td> wavelength of operation </td>\n",
    "    </tr>\n",
    "    <tr>\n",
    "        <td> sa.dipoleID[i] </td>\n",
    "        <td> array holding identification number of each dipole </td>\n",
    "    </tr>\n",
    "    <tr>\n",
    "        <td> sa.positions_x[i] </td>\n",
    "        <td> array holding x-position of each dipole </td>\n",
    "    </tr>\n",
    "    <tr>\n",
    "        <td> sa.positions_z[i] </td>\n",
    "        <td> array holding z-position of each dipole </td>\n",
    "    </tr>\n",
    "    <tr>\n",
    "        <td> sa.alpha[i] </td>\n",
    "        <td> array holding polarizability of each dipole </td>\n",
    "    </tr>\n",
    "    <tr>\n",
    "        <td> sa.layoutType </td>\n",
    "        <td> the type of dipole arrangement (see supported types) </td>\n",
    "    </tr>\n",
    "    <tr>\n",
    "        <td> sa.numDipoles </td>\n",
    "        <td> the total number of dipoles included </td>\n",
    "    </tr>\n",
    "    <tr>\n",
    "        <td> sa.dipoleType </td>\n",
    "        <td> the type of dipole (see supported types) </td>\n",
    "    </tr>\n",
    "    <tr>\n",
    "        <td> sa.dipoleSpacing </td>\n",
    "        <td> if an array, the spacing between elements </td>\n",
    "    </tr>\n",
    "    <tr>\n",
    "        <td> sa.apertureSize </td>\n",
    "        <td> the overall extent of the region occupied by dipoles </td>\n",
    "    </tr>\n",
    "    <tr>\n",
    "        <td> sa.feed_type </td>\n",
    "        <td> the type of feed used (see supported types) </td>\n",
    "    </tr>\n",
    "    <tr>\n",
    "        <td> sa.guideIndex </td>\n",
    "        <td> if a waveguide feed, the effective index of the guide </td>\n",
    "    </tr>\n",
    "\n",
    "</table>\n",
    "</html>"
   ]
  },
  {
   "cell_type": "markdown",
   "metadata": {},
   "source": [
    "Currently supported methods are:"
   ]
  },
  {
   "cell_type": "markdown",
   "metadata": {},
   "source": [
    "<html>\n",
    "<table>\n",
    "    <tr>\n",
    "        <th> method </th>\n",
    "        <th> description </th>\n",
    "    </tr>\n",
    "    <tr>\n",
    "        <td> sa.make_linear_array </td>\n",
    "        <td> creates a linear array of dipoles </td>\n",
    "    </tr>\n",
    "    <tr>\n",
    "        <td> sa.summarize_parameters </td>\n",
    "        <td> outputs current list of parameters </td>\n",
    "    </tr>\n",
    "    <tr>\n",
    "        <td> sa.feed_architecture </td>\n",
    "        <td> defines the feed architecture, outputs excitation field at each dipole </td>\n",
    "    </tr>\n",
    "\n",
    "</table>\n",
    "</html>"
   ]
  },
  {
   "cell_type": "markdown",
   "metadata": {},
   "source": [
    "<html>\n",
    "<body style=\"background-color:#FF0000;\">\n",
    "</body>\n",
    "</html>"
   ]
  },
  {
   "cell_type": "markdown",
   "metadata": {},
   "source": [
    "### dipoleType"
   ]
  },
  {
   "cell_type": "markdown",
   "metadata": {},
   "source": [
    "The dipoleType property supports different types of dipole paradigms, which are ultimately to be set in the DipoleProperties class. Currently supported types are:\n",
    "<html>\n",
    "<table>\n",
    "    <tr>\n",
    "        <th> property value </th>\n",
    "        <th> description </th>\n",
    "    </tr>\n",
    "    <tr>\n",
    "        <td> ideal-unconstrained </td>\n",
    "        <td> The dipole polarizability can assume any value of phase and magnitude. </td>\n",
    "    </tr>\n",
    "    <tr>\n",
    "        <td> ideal-magnitude-only </td>\n",
    "        <td> Only the magnitude of the dipole is varied. </td>\n",
    "    </tr>\n",
    "    <tr>\n",
    "        <td> ideal-lorentzian-constrained </td>\n",
    "        <td> The dipole is constrained to be a Lorentzian resonator. The ideal form assumes all phase and magnitude values are causal. </td>\n",
    "    </tr>\n",
    "</table>\n",
    "</html>"
   ]
  },
  {
   "cell_type": "code",
   "execution_count": null,
   "metadata": {},
   "outputs": [],
   "source": []
  }
 ],
 "metadata": {
  "kernelspec": {
   "display_name": "Python 3 (Spyder)",
   "language": "python3",
   "name": "python3"
  },
  "language_info": {
   "codemirror_mode": {
    "name": "ipython",
    "version": 3
   },
   "file_extension": ".py",
   "mimetype": "text/x-python",
   "name": "python",
   "nbconvert_exporter": "python",
   "pygments_lexer": "ipython3",
   "version": "3.7.7"
  }
 },
 "nbformat": 4,
 "nbformat_minor": 4
}
