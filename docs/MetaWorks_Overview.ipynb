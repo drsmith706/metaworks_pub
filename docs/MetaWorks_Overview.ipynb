{
 "cells": [
  {
   "cell_type": "markdown",
   "metadata": {},
   "source": [
    "<img src=\"LogoColorHorizontal.png\" style=\"width:200px\" align=\"left\">    <img src=\"MetaWorksLogo.png\" style=\"width:200px\" align=\"right\">"
   ]
  },
  {
   "cell_type": "markdown",
   "metadata": {},
   "source": [
    "---"
   ]
  },
  {
   "cell_type": "markdown",
   "metadata": {},
   "source": [
    "# The MetaWorks Framework"
   ]
  },
  {
   "cell_type": "markdown",
   "metadata": {},
   "source": [
    "The MetaWorks code base provides a means of simulating metasurface antennas and apertures. The code is organized into a number of objects that model different aspects of the system. Some of these objects are for the system design, while others allow visualization of the system output and other analysis. The goal of the software is to model very large systems by first conceptualizing each radiating element as a polarizable dipole. A summary diagram of the basic class components is shown below."
   ]
  },
  {
   "cell_type": "markdown",
   "metadata": {},
   "source": [
    "<img src=\"MetaWorksClassStructure.png\" style=\"width:400px\">"
   ]
  },
  {
   "cell_type": "markdown",
   "metadata": {},
   "source": [
    "Currently there are five classes that comprise the MetaWorks platform. Each of these classes is described below."
   ]
  },
  {
   "cell_type": "markdown",
   "metadata": {},
   "source": [
    "### SystemArchitecture Class"
   ]
  },
  {
   "cell_type": "markdown",
   "metadata": {},
   "source": [
    "The system architecture class contains all properties and methods related to the actual system geometry, which includes the dipole layout and the feed structure. The physical design of the aperture or antenna, or even an arbitrary metamaterial structure, occurs within these routines. The system architecture class is designed to be as flexible as possible, allowing as many future types of metamaterial structures as possible."
   ]
  },
  {
   "cell_type": "markdown",
   "metadata": {},
   "source": [
    "The main logic of the program is that the dipole layout dictates the computational problem; that is, the number of dipoles tends to indicate the size of arrays and number of equations to be solved. The feed structure routines calculate the incident fields at the positions of the dipoles, since that is the only information required. "
   ]
  },
  {
   "cell_type": "markdown",
   "metadata": {},
   "source": [
    "### ElementProperties Class"
   ]
  },
  {
   "cell_type": "markdown",
   "metadata": {},
   "source": [
    "Since metamaterial elements are passive resonators, they have certain properties that must be taken into account for practical systems. The element properties class contains all of the information about a given resonator, including any active tuning mechanisms. This information is provided back to the system architecture and modulation pattern classes for the design steps."
   ]
  },
  {
   "cell_type": "markdown",
   "metadata": {},
   "source": [
    "### ModulationPattern Class"
   ]
  },
  {
   "cell_type": "markdown",
   "metadata": {},
   "source": [
    "Once the physical layout of the system has been decided, the polarizabilities for the metamaterial elements must be selected to achieve a desired field pattern. These patterns are determined in the modulation pattern class, taking input from the element properties class as needed. Over the years a number of design approaches have been taken that allow the selection of best polarizabilities when constraints are included (such as the inherent resonator properties of the elements). These approaches are contained within the modulation pattern class. "
   ]
  },
  {
   "cell_type": "markdown",
   "metadata": {},
   "source": [
    "### SystemOutput Class"
   ]
  },
  {
   "cell_type": "markdown",
   "metadata": {},
   "source": [
    "The SystemOutput class provides methods for computing desired output quantities from a given architecture. Radiation patterns and similar types of output are computed using the SystemOutput methods. SystemOutput takes a given SystemArchitecture object as input."
   ]
  },
  {
   "cell_type": "markdown",
   "metadata": {},
   "source": [
    "### DataAnalysis Class"
   ]
  },
  {
   "cell_type": "markdown",
   "metadata": {},
   "source": [
    "The DataAnalysis class contains all methods for analyzing the data generated in the SystemOutput class, as well as routines for plotting various aspects of the SystemArchitecture. All plotting routines are contained in the DataAnalysis class, which builds on and customizes the native plotting routines in MatPlotLib.  "
   ]
  },
  {
   "cell_type": "markdown",
   "metadata": {},
   "source": [
    "---"
   ]
  },
  {
   "cell_type": "markdown",
   "metadata": {},
   "source": [
    "# List of Existing and Planned Functionality"
   ]
  },
  {
   "cell_type": "markdown",
   "metadata": {},
   "source": [
    "<html>\n",
    "<table>\n",
    "    <tr>\n",
    "        <th> Feature </th>\n",
    "        <th> Date Added </th>\n",
    "    </tr>\n",
    "    <tr>\n",
    "        <td> Incorporate actual polarizability values to calculate field strengths and power </td>\n",
    "        <td> To be done </td>\n",
    "    </tr>\n",
    "    <tr>\n",
    "        <td> Incorporate computation of S-parameters for given polarizability </td>\n",
    "        <td> To be done </td>\n",
    "    </tr>\n",
    "    <tr>\n",
    "        <td> Incorporate recalculation of waveguide fields taking into account scattering from elements </td>\n",
    "        <td> To be done </td>\n",
    "    </tr>\n",
    "    <tr>\n",
    "        <td> Add rectangular waveguide feed as source </td>\n",
    "        <td> To be done </td>\n",
    "    </tr>\n",
    "\n",
    "</table>\n",
    "</html>"
   ]
  },
  {
   "cell_type": "code",
   "execution_count": null,
   "metadata": {},
   "outputs": [],
   "source": []
  }
 ],
 "metadata": {
  "kernelspec": {
   "display_name": "Python 3 (Spyder)",
   "language": "python3",
   "name": "python3"
  },
  "language_info": {
   "codemirror_mode": {
    "name": "ipython",
    "version": 3
   },
   "file_extension": ".py",
   "mimetype": "text/x-python",
   "name": "python",
   "nbconvert_exporter": "python",
   "pygments_lexer": "ipython3",
   "version": "3.7.7"
  }
 },
 "nbformat": 4,
 "nbformat_minor": 4
}
