{
 "cells": [
  {
   "cell_type": "markdown",
   "metadata": {},
   "source": [
    "$\\bar{\\chi}_M(\\textbf{r})=\\chi_1(\\textbf{r})\\hat{\\nu}\\otimes \\hat{\\nu}+\\chi_2(\\textbf{r})\\hat{\\mu}\\otimes \\hat{\\mu}$"
   ]
  },
  {
   "cell_type": "markdown",
   "metadata": {},
   "source": [
    "<img src=\"LogoColorHorizontal.png\" style=\"width:200px\" align=\"left\">    <img src=\"MetaWorksLogo.png\" style=\"width:200px\" align=\"right\">"
   ]
  },
  {
   "cell_type": "markdown",
   "metadata": {},
   "source": [
    "# Analyzing Different Modulation Patterns (April 1, 2020)"
   ]
  },
  {
   "cell_type": "markdown",
   "metadata": {},
   "source": [
    "***"
   ]
  },
  {
   "cell_type": "markdown",
   "metadata": {},
   "source": [
    "Once an architecture has been defined for a metasurface antenna, a modulation scheme must be applied to select the element polarizabilities that will achieve a desired beam form. To obtain a plane wave from an aperture, the aperture field must have the form of a traveling wave with a period set by the parallel component of the wave vector corresponding to the desired plane wave. Assuming the desired plane wave has the form:"
   ]
  },
  {
   "cell_type": "markdown",
   "metadata": {},
   "source": [
    "$\\textbf{E}(\\textbf{r})=\\textbf{E}_0 e^{-j \\textbf{k}_b \\cdot \\textbf{r}}$"
   ]
  },
  {
   "cell_type": "markdown",
   "metadata": {},
   "source": [
    "Such a field distribution requires an effective magnetic current in the aperture plane defined by"
   ]
  },
  {
   "cell_type": "markdown",
   "metadata": {},
   "source": [
    "$\\textbf{K}_M = \\textbf{E} \\times \\hat{\\textbf{n}} = \\textbf{E}_0 \\times \\hat{\\textbf{n}}e^{-j \\textbf{k}_b \\cdot \\textbf{r}}$"
   ]
  },
  {
   "cell_type": "markdown",
   "metadata": {},
   "source": [
    "The effective magnetic surface current is approximated by the field radiated from the metamaterial elements, each of which behaves as a polarizable magnetic dipole excited by an underlying feed wave. That is,"
   ]
  },
  {
   "cell_type": "markdown",
   "metadata": {},
   "source": [
    "$\\textbf{K}_M(\\textbf{r})=-j \\omega \\mu_0 \\bar{\\chi}_M(\\textbf{r})\\textbf{H}_f(\\textbf{r})$"
   ]
  },
  {
   "cell_type": "markdown",
   "metadata": {},
   "source": [
    "where $\\bar{\\chi}_M(\\textbf{r})$ is the surface susceptibility, defined as the magnetic dipole per unit area. For general control of a wave including polarization, we must consider two lattices of dipoles with orthogonal orientation, so that"
   ]
  },
  {
   "cell_type": "markdown",
   "metadata": {},
   "source": [
    "Finally, the ideal polarizabilities can be written as"
   ]
  },
  {
   "cell_type": "markdown",
   "metadata": {},
   "source": [
    "$\\alpha^i_1 = \\frac{j \\Lambda^2}{Z_0 k}\\textbf{E}_0 \\cdot (\\hat{n} \\times \\hat{\\nu}_i) \\frac{e^{j \\textbf{k}_b \\cdot \\textbf{r}_i}}{\\textbf{H}_f \\cdot \\hat{\\nu}_i}$,  \n",
    "$\\alpha^i_2 = \\frac{j \\Lambda^2}{Z_0 k}\\textbf{E}_0 \\cdot (\\hat{n} \\times \\hat{\\mu}_i) \\frac{e^{j \\textbf{k}_b \\cdot \\textbf{r}_i}}{\\textbf{H}_f \\cdot \\hat{\\mu}_i}$"
   ]
  },
  {
   "cell_type": "code",
   "execution_count": null,
   "metadata": {},
   "outputs": [],
   "source": []
  }
 ],
 "metadata": {
  "kernelspec": {
   "display_name": "Python 3",
   "language": "python",
   "name": "python3"
  },
  "language_info": {
   "codemirror_mode": {
    "name": "ipython",
    "version": 3
   },
   "file_extension": ".py",
   "mimetype": "text/x-python",
   "name": "python",
   "nbconvert_exporter": "python",
   "pygments_lexer": "ipython3",
   "version": "3.7.7"
  }
 },
 "nbformat": 4,
 "nbformat_minor": 4
}
